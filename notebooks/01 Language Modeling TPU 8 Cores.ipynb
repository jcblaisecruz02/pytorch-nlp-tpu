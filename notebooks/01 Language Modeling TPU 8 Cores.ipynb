{
  "nbformat": 4,
  "nbformat_minor": 0,
  "metadata": {
    "colab": {
      "name": "TPU Language Modeling 8 Cores",
      "provenance": [],
      "collapsed_sections": []
    },
    "kernelspec": {
      "name": "python3",
      "display_name": "Python 3"
    },
    "accelerator": "TPU",
    "widgets": {
      "application/vnd.jupyter.widget-state+json": {
        "c1bbed3c38644ce5be364ca723d40a5e": {
          "model_module": "@jupyter-widgets/controls",
          "model_name": "HBoxModel",
          "state": {
            "_view_name": "HBoxView",
            "_dom_classes": [],
            "_model_name": "HBoxModel",
            "_view_module": "@jupyter-widgets/controls",
            "_model_module_version": "1.5.0",
            "_view_count": null,
            "_view_module_version": "1.5.0",
            "box_style": "",
            "layout": "IPY_MODEL_a699cbc7830747f590b5ef0d067d34bb",
            "_model_module": "@jupyter-widgets/controls",
            "children": [
              "IPY_MODEL_48dd7da9b1714946aadab72196dfbd9a",
              "IPY_MODEL_32ff92a130e44732b871f5ede5cc7871"
            ]
          }
        },
        "a699cbc7830747f590b5ef0d067d34bb": {
          "model_module": "@jupyter-widgets/base",
          "model_name": "LayoutModel",
          "state": {
            "_view_name": "LayoutView",
            "grid_template_rows": null,
            "right": null,
            "justify_content": null,
            "_view_module": "@jupyter-widgets/base",
            "overflow": null,
            "_model_module_version": "1.2.0",
            "_view_count": null,
            "flex_flow": null,
            "width": null,
            "min_width": null,
            "border": null,
            "align_items": null,
            "bottom": null,
            "_model_module": "@jupyter-widgets/base",
            "top": null,
            "grid_column": null,
            "overflow_y": null,
            "overflow_x": null,
            "grid_auto_flow": null,
            "grid_area": null,
            "grid_template_columns": null,
            "flex": null,
            "_model_name": "LayoutModel",
            "justify_items": null,
            "grid_row": null,
            "max_height": null,
            "align_content": null,
            "visibility": null,
            "align_self": null,
            "height": null,
            "min_height": null,
            "padding": null,
            "grid_auto_rows": null,
            "grid_gap": null,
            "max_width": null,
            "order": null,
            "_view_module_version": "1.2.0",
            "grid_template_areas": null,
            "object_position": null,
            "object_fit": null,
            "grid_auto_columns": null,
            "margin": null,
            "display": null,
            "left": null
          }
        },
        "48dd7da9b1714946aadab72196dfbd9a": {
          "model_module": "@jupyter-widgets/controls",
          "model_name": "FloatProgressModel",
          "state": {
            "_view_name": "ProgressView",
            "style": "IPY_MODEL_c22d6a0b153d431a91fba3442a529020",
            "_dom_classes": [],
            "description": "Downloading: 100%",
            "_model_name": "FloatProgressModel",
            "bar_style": "success",
            "max": 1042301,
            "_view_module": "@jupyter-widgets/controls",
            "_model_module_version": "1.5.0",
            "value": 1042301,
            "_view_count": null,
            "_view_module_version": "1.5.0",
            "orientation": "horizontal",
            "min": 0,
            "description_tooltip": null,
            "_model_module": "@jupyter-widgets/controls",
            "layout": "IPY_MODEL_110cb9c98edf4ce8bf9824c49ba07bc1"
          }
        },
        "32ff92a130e44732b871f5ede5cc7871": {
          "model_module": "@jupyter-widgets/controls",
          "model_name": "HTMLModel",
          "state": {
            "_view_name": "HTMLView",
            "style": "IPY_MODEL_b04c86522028456cb9ae79b6116ab27e",
            "_dom_classes": [],
            "description": "",
            "_model_name": "HTMLModel",
            "placeholder": "​",
            "_view_module": "@jupyter-widgets/controls",
            "_model_module_version": "1.5.0",
            "value": " 1.04M/1.04M [00:00&lt;00:00, 5.37MB/s]",
            "_view_count": null,
            "_view_module_version": "1.5.0",
            "description_tooltip": null,
            "_model_module": "@jupyter-widgets/controls",
            "layout": "IPY_MODEL_8d1b929d06294e9d844b0ea2555fcd31"
          }
        },
        "c22d6a0b153d431a91fba3442a529020": {
          "model_module": "@jupyter-widgets/controls",
          "model_name": "ProgressStyleModel",
          "state": {
            "_view_name": "StyleView",
            "_model_name": "ProgressStyleModel",
            "description_width": "initial",
            "_view_module": "@jupyter-widgets/base",
            "_model_module_version": "1.5.0",
            "_view_count": null,
            "_view_module_version": "1.2.0",
            "bar_color": null,
            "_model_module": "@jupyter-widgets/controls"
          }
        },
        "110cb9c98edf4ce8bf9824c49ba07bc1": {
          "model_module": "@jupyter-widgets/base",
          "model_name": "LayoutModel",
          "state": {
            "_view_name": "LayoutView",
            "grid_template_rows": null,
            "right": null,
            "justify_content": null,
            "_view_module": "@jupyter-widgets/base",
            "overflow": null,
            "_model_module_version": "1.2.0",
            "_view_count": null,
            "flex_flow": null,
            "width": null,
            "min_width": null,
            "border": null,
            "align_items": null,
            "bottom": null,
            "_model_module": "@jupyter-widgets/base",
            "top": null,
            "grid_column": null,
            "overflow_y": null,
            "overflow_x": null,
            "grid_auto_flow": null,
            "grid_area": null,
            "grid_template_columns": null,
            "flex": null,
            "_model_name": "LayoutModel",
            "justify_items": null,
            "grid_row": null,
            "max_height": null,
            "align_content": null,
            "visibility": null,
            "align_self": null,
            "height": null,
            "min_height": null,
            "padding": null,
            "grid_auto_rows": null,
            "grid_gap": null,
            "max_width": null,
            "order": null,
            "_view_module_version": "1.2.0",
            "grid_template_areas": null,
            "object_position": null,
            "object_fit": null,
            "grid_auto_columns": null,
            "margin": null,
            "display": null,
            "left": null
          }
        },
        "b04c86522028456cb9ae79b6116ab27e": {
          "model_module": "@jupyter-widgets/controls",
          "model_name": "DescriptionStyleModel",
          "state": {
            "_view_name": "StyleView",
            "_model_name": "DescriptionStyleModel",
            "description_width": "",
            "_view_module": "@jupyter-widgets/base",
            "_model_module_version": "1.5.0",
            "_view_count": null,
            "_view_module_version": "1.2.0",
            "_model_module": "@jupyter-widgets/controls"
          }
        },
        "8d1b929d06294e9d844b0ea2555fcd31": {
          "model_module": "@jupyter-widgets/base",
          "model_name": "LayoutModel",
          "state": {
            "_view_name": "LayoutView",
            "grid_template_rows": null,
            "right": null,
            "justify_content": null,
            "_view_module": "@jupyter-widgets/base",
            "overflow": null,
            "_model_module_version": "1.2.0",
            "_view_count": null,
            "flex_flow": null,
            "width": null,
            "min_width": null,
            "border": null,
            "align_items": null,
            "bottom": null,
            "_model_module": "@jupyter-widgets/base",
            "top": null,
            "grid_column": null,
            "overflow_y": null,
            "overflow_x": null,
            "grid_auto_flow": null,
            "grid_area": null,
            "grid_template_columns": null,
            "flex": null,
            "_model_name": "LayoutModel",
            "justify_items": null,
            "grid_row": null,
            "max_height": null,
            "align_content": null,
            "visibility": null,
            "align_self": null,
            "height": null,
            "min_height": null,
            "padding": null,
            "grid_auto_rows": null,
            "grid_gap": null,
            "max_width": null,
            "order": null,
            "_view_module_version": "1.2.0",
            "grid_template_areas": null,
            "object_position": null,
            "object_fit": null,
            "grid_auto_columns": null,
            "margin": null,
            "display": null,
            "left": null
          }
        },
        "5339c156c3e748ca8e33d7260af28a3a": {
          "model_module": "@jupyter-widgets/controls",
          "model_name": "HBoxModel",
          "state": {
            "_view_name": "HBoxView",
            "_dom_classes": [],
            "_model_name": "HBoxModel",
            "_view_module": "@jupyter-widgets/controls",
            "_model_module_version": "1.5.0",
            "_view_count": null,
            "_view_module_version": "1.5.0",
            "box_style": "",
            "layout": "IPY_MODEL_5de6deff705a4bf8b6fe044a1ab737e8",
            "_model_module": "@jupyter-widgets/controls",
            "children": [
              "IPY_MODEL_f155da9c3e2b49b8b277052db0a163bf",
              "IPY_MODEL_57e2146f06c246b3862ec46896c50890"
            ]
          }
        },
        "5de6deff705a4bf8b6fe044a1ab737e8": {
          "model_module": "@jupyter-widgets/base",
          "model_name": "LayoutModel",
          "state": {
            "_view_name": "LayoutView",
            "grid_template_rows": null,
            "right": null,
            "justify_content": null,
            "_view_module": "@jupyter-widgets/base",
            "overflow": null,
            "_model_module_version": "1.2.0",
            "_view_count": null,
            "flex_flow": null,
            "width": null,
            "min_width": null,
            "border": null,
            "align_items": null,
            "bottom": null,
            "_model_module": "@jupyter-widgets/base",
            "top": null,
            "grid_column": null,
            "overflow_y": null,
            "overflow_x": null,
            "grid_auto_flow": null,
            "grid_area": null,
            "grid_template_columns": null,
            "flex": null,
            "_model_name": "LayoutModel",
            "justify_items": null,
            "grid_row": null,
            "max_height": null,
            "align_content": null,
            "visibility": null,
            "align_self": null,
            "height": null,
            "min_height": null,
            "padding": null,
            "grid_auto_rows": null,
            "grid_gap": null,
            "max_width": null,
            "order": null,
            "_view_module_version": "1.2.0",
            "grid_template_areas": null,
            "object_position": null,
            "object_fit": null,
            "grid_auto_columns": null,
            "margin": null,
            "display": null,
            "left": null
          }
        },
        "f155da9c3e2b49b8b277052db0a163bf": {
          "model_module": "@jupyter-widgets/controls",
          "model_name": "FloatProgressModel",
          "state": {
            "_view_name": "ProgressView",
            "style": "IPY_MODEL_3609353cbe4b450fa9a2940b45226c79",
            "_dom_classes": [],
            "description": "Downloading: 100%",
            "_model_name": "FloatProgressModel",
            "bar_style": "success",
            "max": 456318,
            "_view_module": "@jupyter-widgets/controls",
            "_model_module_version": "1.5.0",
            "value": 456318,
            "_view_count": null,
            "_view_module_version": "1.5.0",
            "orientation": "horizontal",
            "min": 0,
            "description_tooltip": null,
            "_model_module": "@jupyter-widgets/controls",
            "layout": "IPY_MODEL_862d212588bd4bf9a2cbd486a1b6185b"
          }
        },
        "57e2146f06c246b3862ec46896c50890": {
          "model_module": "@jupyter-widgets/controls",
          "model_name": "HTMLModel",
          "state": {
            "_view_name": "HTMLView",
            "style": "IPY_MODEL_639cead008684e5f9a80e24a2ee325e5",
            "_dom_classes": [],
            "description": "",
            "_model_name": "HTMLModel",
            "placeholder": "​",
            "_view_module": "@jupyter-widgets/controls",
            "_model_module_version": "1.5.0",
            "value": " 456k/456k [00:00&lt;00:00, 2.12MB/s]",
            "_view_count": null,
            "_view_module_version": "1.5.0",
            "description_tooltip": null,
            "_model_module": "@jupyter-widgets/controls",
            "layout": "IPY_MODEL_a1cfd016044a49caa7cb288d3597eb20"
          }
        },
        "3609353cbe4b450fa9a2940b45226c79": {
          "model_module": "@jupyter-widgets/controls",
          "model_name": "ProgressStyleModel",
          "state": {
            "_view_name": "StyleView",
            "_model_name": "ProgressStyleModel",
            "description_width": "initial",
            "_view_module": "@jupyter-widgets/base",
            "_model_module_version": "1.5.0",
            "_view_count": null,
            "_view_module_version": "1.2.0",
            "bar_color": null,
            "_model_module": "@jupyter-widgets/controls"
          }
        },
        "862d212588bd4bf9a2cbd486a1b6185b": {
          "model_module": "@jupyter-widgets/base",
          "model_name": "LayoutModel",
          "state": {
            "_view_name": "LayoutView",
            "grid_template_rows": null,
            "right": null,
            "justify_content": null,
            "_view_module": "@jupyter-widgets/base",
            "overflow": null,
            "_model_module_version": "1.2.0",
            "_view_count": null,
            "flex_flow": null,
            "width": null,
            "min_width": null,
            "border": null,
            "align_items": null,
            "bottom": null,
            "_model_module": "@jupyter-widgets/base",
            "top": null,
            "grid_column": null,
            "overflow_y": null,
            "overflow_x": null,
            "grid_auto_flow": null,
            "grid_area": null,
            "grid_template_columns": null,
            "flex": null,
            "_model_name": "LayoutModel",
            "justify_items": null,
            "grid_row": null,
            "max_height": null,
            "align_content": null,
            "visibility": null,
            "align_self": null,
            "height": null,
            "min_height": null,
            "padding": null,
            "grid_auto_rows": null,
            "grid_gap": null,
            "max_width": null,
            "order": null,
            "_view_module_version": "1.2.0",
            "grid_template_areas": null,
            "object_position": null,
            "object_fit": null,
            "grid_auto_columns": null,
            "margin": null,
            "display": null,
            "left": null
          }
        },
        "639cead008684e5f9a80e24a2ee325e5": {
          "model_module": "@jupyter-widgets/controls",
          "model_name": "DescriptionStyleModel",
          "state": {
            "_view_name": "StyleView",
            "_model_name": "DescriptionStyleModel",
            "description_width": "",
            "_view_module": "@jupyter-widgets/base",
            "_model_module_version": "1.5.0",
            "_view_count": null,
            "_view_module_version": "1.2.0",
            "_model_module": "@jupyter-widgets/controls"
          }
        },
        "a1cfd016044a49caa7cb288d3597eb20": {
          "model_module": "@jupyter-widgets/base",
          "model_name": "LayoutModel",
          "state": {
            "_view_name": "LayoutView",
            "grid_template_rows": null,
            "right": null,
            "justify_content": null,
            "_view_module": "@jupyter-widgets/base",
            "overflow": null,
            "_model_module_version": "1.2.0",
            "_view_count": null,
            "flex_flow": null,
            "width": null,
            "min_width": null,
            "border": null,
            "align_items": null,
            "bottom": null,
            "_model_module": "@jupyter-widgets/base",
            "top": null,
            "grid_column": null,
            "overflow_y": null,
            "overflow_x": null,
            "grid_auto_flow": null,
            "grid_area": null,
            "grid_template_columns": null,
            "flex": null,
            "_model_name": "LayoutModel",
            "justify_items": null,
            "grid_row": null,
            "max_height": null,
            "align_content": null,
            "visibility": null,
            "align_self": null,
            "height": null,
            "min_height": null,
            "padding": null,
            "grid_auto_rows": null,
            "grid_gap": null,
            "max_width": null,
            "order": null,
            "_view_module_version": "1.2.0",
            "grid_template_areas": null,
            "object_position": null,
            "object_fit": null,
            "grid_auto_columns": null,
            "margin": null,
            "display": null,
            "left": null
          }
        },
        "63b389cca0314bb5a86c431b69069e1e": {
          "model_module": "@jupyter-widgets/controls",
          "model_name": "HBoxModel",
          "state": {
            "_view_name": "HBoxView",
            "_dom_classes": [],
            "_model_name": "HBoxModel",
            "_view_module": "@jupyter-widgets/controls",
            "_model_module_version": "1.5.0",
            "_view_count": null,
            "_view_module_version": "1.5.0",
            "box_style": "",
            "layout": "IPY_MODEL_30ae12dab0f44a96bea769205f0a0bdf",
            "_model_module": "@jupyter-widgets/controls",
            "children": [
              "IPY_MODEL_3dc89c1dc0b94ab198a8735199983400",
              "IPY_MODEL_0942b2766f7d4b81a4e8ab684598a049"
            ]
          }
        },
        "30ae12dab0f44a96bea769205f0a0bdf": {
          "model_module": "@jupyter-widgets/base",
          "model_name": "LayoutModel",
          "state": {
            "_view_name": "LayoutView",
            "grid_template_rows": null,
            "right": null,
            "justify_content": null,
            "_view_module": "@jupyter-widgets/base",
            "overflow": null,
            "_model_module_version": "1.2.0",
            "_view_count": null,
            "flex_flow": null,
            "width": null,
            "min_width": null,
            "border": null,
            "align_items": null,
            "bottom": null,
            "_model_module": "@jupyter-widgets/base",
            "top": null,
            "grid_column": null,
            "overflow_y": null,
            "overflow_x": null,
            "grid_auto_flow": null,
            "grid_area": null,
            "grid_template_columns": null,
            "flex": null,
            "_model_name": "LayoutModel",
            "justify_items": null,
            "grid_row": null,
            "max_height": null,
            "align_content": null,
            "visibility": null,
            "align_self": null,
            "height": null,
            "min_height": null,
            "padding": null,
            "grid_auto_rows": null,
            "grid_gap": null,
            "max_width": null,
            "order": null,
            "_view_module_version": "1.2.0",
            "grid_template_areas": null,
            "object_position": null,
            "object_fit": null,
            "grid_auto_columns": null,
            "margin": null,
            "display": null,
            "left": null
          }
        },
        "3dc89c1dc0b94ab198a8735199983400": {
          "model_module": "@jupyter-widgets/controls",
          "model_name": "FloatProgressModel",
          "state": {
            "_view_name": "ProgressView",
            "style": "IPY_MODEL_cdc9997cdaf54063a8220b7a4c9bfd91",
            "_dom_classes": [],
            "description": "Downloading: 100%",
            "_model_name": "FloatProgressModel",
            "bar_style": "success",
            "max": 762,
            "_view_module": "@jupyter-widgets/controls",
            "_model_module_version": "1.5.0",
            "value": 762,
            "_view_count": null,
            "_view_module_version": "1.5.0",
            "orientation": "horizontal",
            "min": 0,
            "description_tooltip": null,
            "_model_module": "@jupyter-widgets/controls",
            "layout": "IPY_MODEL_9074c0e091cb47c795077d0c374e6b2d"
          }
        },
        "0942b2766f7d4b81a4e8ab684598a049": {
          "model_module": "@jupyter-widgets/controls",
          "model_name": "HTMLModel",
          "state": {
            "_view_name": "HTMLView",
            "style": "IPY_MODEL_c8962463a6204c518b7b692dd1219eda",
            "_dom_classes": [],
            "description": "",
            "_model_name": "HTMLModel",
            "placeholder": "​",
            "_view_module": "@jupyter-widgets/controls",
            "_model_module_version": "1.5.0",
            "value": " 762/762 [00:00&lt;00:00, 1.92kB/s]",
            "_view_count": null,
            "_view_module_version": "1.5.0",
            "description_tooltip": null,
            "_model_module": "@jupyter-widgets/controls",
            "layout": "IPY_MODEL_2a2669fae10447c58f6184d077b733fc"
          }
        },
        "cdc9997cdaf54063a8220b7a4c9bfd91": {
          "model_module": "@jupyter-widgets/controls",
          "model_name": "ProgressStyleModel",
          "state": {
            "_view_name": "StyleView",
            "_model_name": "ProgressStyleModel",
            "description_width": "initial",
            "_view_module": "@jupyter-widgets/base",
            "_model_module_version": "1.5.0",
            "_view_count": null,
            "_view_module_version": "1.2.0",
            "bar_color": null,
            "_model_module": "@jupyter-widgets/controls"
          }
        },
        "9074c0e091cb47c795077d0c374e6b2d": {
          "model_module": "@jupyter-widgets/base",
          "model_name": "LayoutModel",
          "state": {
            "_view_name": "LayoutView",
            "grid_template_rows": null,
            "right": null,
            "justify_content": null,
            "_view_module": "@jupyter-widgets/base",
            "overflow": null,
            "_model_module_version": "1.2.0",
            "_view_count": null,
            "flex_flow": null,
            "width": null,
            "min_width": null,
            "border": null,
            "align_items": null,
            "bottom": null,
            "_model_module": "@jupyter-widgets/base",
            "top": null,
            "grid_column": null,
            "overflow_y": null,
            "overflow_x": null,
            "grid_auto_flow": null,
            "grid_area": null,
            "grid_template_columns": null,
            "flex": null,
            "_model_name": "LayoutModel",
            "justify_items": null,
            "grid_row": null,
            "max_height": null,
            "align_content": null,
            "visibility": null,
            "align_self": null,
            "height": null,
            "min_height": null,
            "padding": null,
            "grid_auto_rows": null,
            "grid_gap": null,
            "max_width": null,
            "order": null,
            "_view_module_version": "1.2.0",
            "grid_template_areas": null,
            "object_position": null,
            "object_fit": null,
            "grid_auto_columns": null,
            "margin": null,
            "display": null,
            "left": null
          }
        },
        "c8962463a6204c518b7b692dd1219eda": {
          "model_module": "@jupyter-widgets/controls",
          "model_name": "DescriptionStyleModel",
          "state": {
            "_view_name": "StyleView",
            "_model_name": "DescriptionStyleModel",
            "description_width": "",
            "_view_module": "@jupyter-widgets/base",
            "_model_module_version": "1.5.0",
            "_view_count": null,
            "_view_module_version": "1.2.0",
            "_model_module": "@jupyter-widgets/controls"
          }
        },
        "2a2669fae10447c58f6184d077b733fc": {
          "model_module": "@jupyter-widgets/base",
          "model_name": "LayoutModel",
          "state": {
            "_view_name": "LayoutView",
            "grid_template_rows": null,
            "right": null,
            "justify_content": null,
            "_view_module": "@jupyter-widgets/base",
            "overflow": null,
            "_model_module_version": "1.2.0",
            "_view_count": null,
            "flex_flow": null,
            "width": null,
            "min_width": null,
            "border": null,
            "align_items": null,
            "bottom": null,
            "_model_module": "@jupyter-widgets/base",
            "top": null,
            "grid_column": null,
            "overflow_y": null,
            "overflow_x": null,
            "grid_auto_flow": null,
            "grid_area": null,
            "grid_template_columns": null,
            "flex": null,
            "_model_name": "LayoutModel",
            "justify_items": null,
            "grid_row": null,
            "max_height": null,
            "align_content": null,
            "visibility": null,
            "align_self": null,
            "height": null,
            "min_height": null,
            "padding": null,
            "grid_auto_rows": null,
            "grid_gap": null,
            "max_width": null,
            "order": null,
            "_view_module_version": "1.2.0",
            "grid_template_areas": null,
            "object_position": null,
            "object_fit": null,
            "grid_auto_columns": null,
            "margin": null,
            "display": null,
            "left": null
          }
        },
        "5484ace839914fbfaf177c5b6d55f23a": {
          "model_module": "@jupyter-widgets/controls",
          "model_name": "HBoxModel",
          "state": {
            "_view_name": "HBoxView",
            "_dom_classes": [],
            "_model_name": "HBoxModel",
            "_view_module": "@jupyter-widgets/controls",
            "_model_module_version": "1.5.0",
            "_view_count": null,
            "_view_module_version": "1.5.0",
            "box_style": "",
            "layout": "IPY_MODEL_4c4929149a18473daddabbf08e52e4df",
            "_model_module": "@jupyter-widgets/controls",
            "children": [
              "IPY_MODEL_75776919d7a34a5fb8db87300f8968ba",
              "IPY_MODEL_7073044e0da9470c83c41bf9d0d7f649"
            ]
          }
        },
        "4c4929149a18473daddabbf08e52e4df": {
          "model_module": "@jupyter-widgets/base",
          "model_name": "LayoutModel",
          "state": {
            "_view_name": "LayoutView",
            "grid_template_rows": null,
            "right": null,
            "justify_content": null,
            "_view_module": "@jupyter-widgets/base",
            "overflow": null,
            "_model_module_version": "1.2.0",
            "_view_count": null,
            "flex_flow": null,
            "width": null,
            "min_width": null,
            "border": null,
            "align_items": null,
            "bottom": null,
            "_model_module": "@jupyter-widgets/base",
            "top": null,
            "grid_column": null,
            "overflow_y": null,
            "overflow_x": null,
            "grid_auto_flow": null,
            "grid_area": null,
            "grid_template_columns": null,
            "flex": null,
            "_model_name": "LayoutModel",
            "justify_items": null,
            "grid_row": null,
            "max_height": null,
            "align_content": null,
            "visibility": null,
            "align_self": null,
            "height": null,
            "min_height": null,
            "padding": null,
            "grid_auto_rows": null,
            "grid_gap": null,
            "max_width": null,
            "order": null,
            "_view_module_version": "1.2.0",
            "grid_template_areas": null,
            "object_position": null,
            "object_fit": null,
            "grid_auto_columns": null,
            "margin": null,
            "display": null,
            "left": null
          }
        },
        "75776919d7a34a5fb8db87300f8968ba": {
          "model_module": "@jupyter-widgets/controls",
          "model_name": "FloatProgressModel",
          "state": {
            "_view_name": "ProgressView",
            "style": "IPY_MODEL_fb96684e03de486c88ce7b2ad5514bdc",
            "_dom_classes": [],
            "description": "Downloading: 100%",
            "_model_name": "FloatProgressModel",
            "bar_style": "success",
            "max": 352833716,
            "_view_module": "@jupyter-widgets/controls",
            "_model_module_version": "1.5.0",
            "value": 352833716,
            "_view_count": null,
            "_view_module_version": "1.5.0",
            "orientation": "horizontal",
            "min": 0,
            "description_tooltip": null,
            "_model_module": "@jupyter-widgets/controls",
            "layout": "IPY_MODEL_6e6b25eb86b641229a3f324949c92f5e"
          }
        },
        "7073044e0da9470c83c41bf9d0d7f649": {
          "model_module": "@jupyter-widgets/controls",
          "model_name": "HTMLModel",
          "state": {
            "_view_name": "HTMLView",
            "style": "IPY_MODEL_bc2d1d4c6683461c86da9962ab30c163",
            "_dom_classes": [],
            "description": "",
            "_model_name": "HTMLModel",
            "placeholder": "​",
            "_view_module": "@jupyter-widgets/controls",
            "_model_module_version": "1.5.0",
            "value": " 353M/353M [00:51&lt;00:00, 6.85MB/s]",
            "_view_count": null,
            "_view_module_version": "1.5.0",
            "description_tooltip": null,
            "_model_module": "@jupyter-widgets/controls",
            "layout": "IPY_MODEL_013e67e19f944ea29fdbde33c82f109b"
          }
        },
        "fb96684e03de486c88ce7b2ad5514bdc": {
          "model_module": "@jupyter-widgets/controls",
          "model_name": "ProgressStyleModel",
          "state": {
            "_view_name": "StyleView",
            "_model_name": "ProgressStyleModel",
            "description_width": "initial",
            "_view_module": "@jupyter-widgets/base",
            "_model_module_version": "1.5.0",
            "_view_count": null,
            "_view_module_version": "1.2.0",
            "bar_color": null,
            "_model_module": "@jupyter-widgets/controls"
          }
        },
        "6e6b25eb86b641229a3f324949c92f5e": {
          "model_module": "@jupyter-widgets/base",
          "model_name": "LayoutModel",
          "state": {
            "_view_name": "LayoutView",
            "grid_template_rows": null,
            "right": null,
            "justify_content": null,
            "_view_module": "@jupyter-widgets/base",
            "overflow": null,
            "_model_module_version": "1.2.0",
            "_view_count": null,
            "flex_flow": null,
            "width": null,
            "min_width": null,
            "border": null,
            "align_items": null,
            "bottom": null,
            "_model_module": "@jupyter-widgets/base",
            "top": null,
            "grid_column": null,
            "overflow_y": null,
            "overflow_x": null,
            "grid_auto_flow": null,
            "grid_area": null,
            "grid_template_columns": null,
            "flex": null,
            "_model_name": "LayoutModel",
            "justify_items": null,
            "grid_row": null,
            "max_height": null,
            "align_content": null,
            "visibility": null,
            "align_self": null,
            "height": null,
            "min_height": null,
            "padding": null,
            "grid_auto_rows": null,
            "grid_gap": null,
            "max_width": null,
            "order": null,
            "_view_module_version": "1.2.0",
            "grid_template_areas": null,
            "object_position": null,
            "object_fit": null,
            "grid_auto_columns": null,
            "margin": null,
            "display": null,
            "left": null
          }
        },
        "bc2d1d4c6683461c86da9962ab30c163": {
          "model_module": "@jupyter-widgets/controls",
          "model_name": "DescriptionStyleModel",
          "state": {
            "_view_name": "StyleView",
            "_model_name": "DescriptionStyleModel",
            "description_width": "",
            "_view_module": "@jupyter-widgets/base",
            "_model_module_version": "1.5.0",
            "_view_count": null,
            "_view_module_version": "1.2.0",
            "_model_module": "@jupyter-widgets/controls"
          }
        },
        "013e67e19f944ea29fdbde33c82f109b": {
          "model_module": "@jupyter-widgets/base",
          "model_name": "LayoutModel",
          "state": {
            "_view_name": "LayoutView",
            "grid_template_rows": null,
            "right": null,
            "justify_content": null,
            "_view_module": "@jupyter-widgets/base",
            "overflow": null,
            "_model_module_version": "1.2.0",
            "_view_count": null,
            "flex_flow": null,
            "width": null,
            "min_width": null,
            "border": null,
            "align_items": null,
            "bottom": null,
            "_model_module": "@jupyter-widgets/base",
            "top": null,
            "grid_column": null,
            "overflow_y": null,
            "overflow_x": null,
            "grid_auto_flow": null,
            "grid_area": null,
            "grid_template_columns": null,
            "flex": null,
            "_model_name": "LayoutModel",
            "justify_items": null,
            "grid_row": null,
            "max_height": null,
            "align_content": null,
            "visibility": null,
            "align_self": null,
            "height": null,
            "min_height": null,
            "padding": null,
            "grid_auto_rows": null,
            "grid_gap": null,
            "max_width": null,
            "order": null,
            "_view_module_version": "1.2.0",
            "grid_template_areas": null,
            "object_position": null,
            "object_fit": null,
            "grid_auto_columns": null,
            "margin": null,
            "display": null,
            "left": null
          }
        }
      }
    }
  },
  "cells": [
    {
      "cell_type": "markdown",
      "metadata": {
        "id": "rEvV4D_PK_5g",
        "colab_type": "text"
      },
      "source": [
        "# DistilGPT2 LM Finetuning with 8 TPU Cores\n",
        "\n",
        "*Prepared by Jan Christian Blaise Cruz*\n",
        "\n",
        "This notebook shows you how to finetune a pretrained DistilGPT2 model on the [WikText-2](https://blog.einstein.ai/the-wikitext-long-term-dependency-language-modeling-dataset/) language modeling dataset using a Cloud TPU and all 8 of its cores, using PyTorch. For more information on the PyTorch XLA project, check out their [GitHub repo](https://github.com/pytorch/xla) for more tutorial notebooks and documentation."
      ]
    },
    {
      "cell_type": "markdown",
      "metadata": {
        "id": "Ye4hLadyK_71",
        "colab_type": "text"
      },
      "source": [
        "# Setup"
      ]
    },
    {
      "cell_type": "markdown",
      "metadata": {
        "id": "toYJ_-K6LQTr",
        "colab_type": "text"
      },
      "source": [
        "First, let's set up PyTorch XLA."
      ]
    },
    {
      "cell_type": "code",
      "metadata": {
        "id": "HOx_RO5o6vLk",
        "colab_type": "code",
        "colab": {
          "base_uri": "https://localhost:8080/",
          "height": 999
        },
        "outputId": "ece7c101-2973-41c6-c036-053565dee1c8"
      },
      "source": [
        "VERSION = \"20200325\"  #@param [\"1.5\" , \"20200325\", \"nightly\"]\n",
        "!curl https://raw.githubusercontent.com/pytorch/xla/master/contrib/scripts/env-setup.py -o pytorch-xla-env-setup.py\n",
        "!python pytorch-xla-env-setup.py --version $VERSION"
      ],
      "execution_count": 1,
      "outputs": [
        {
          "output_type": "stream",
          "text": [
            "  % Total    % Received % Xferd  Average Speed   Time    Time     Time  Current\n",
            "                                 Dload  Upload   Total   Spent    Left  Speed\n",
            "\r  0     0    0     0    0     0      0      0 --:--:-- --:--:-- --:--:--     0\r  0     0    0     0    0     0      0      0 --:--:-- --:--:-- --:--:--     0\r100  4264  100  4264    0     0  48454      0 --:--:-- --:--:-- --:--:-- 47910\n",
            "Updating TPU and VM. This may take around 2 minutes.\n",
            "Updating TPU runtime to pytorch-dev20200325 ...\n",
            "Uninstalling torch-1.5.0+cu101:\n",
            "Done updating TPU runtime: <Response [200]>\n",
            "  Successfully uninstalled torch-1.5.0+cu101\n",
            "Uninstalling torchvision-0.6.0+cu101:\n",
            "  Successfully uninstalled torchvision-0.6.0+cu101\n",
            "Copying gs://tpu-pytorch/wheels/torch-nightly+20200325-cp36-cp36m-linux_x86_64.whl...\n",
            "- [1 files][ 83.4 MiB/ 83.4 MiB]                                                \n",
            "Operation completed over 1 objects/83.4 MiB.                                     \n",
            "Copying gs://tpu-pytorch/wheels/torch_xla-nightly+20200325-cp36-cp36m-linux_x86_64.whl...\n",
            "- [1 files][114.5 MiB/114.5 MiB]                                                \n",
            "Operation completed over 1 objects/114.5 MiB.                                    \n",
            "Copying gs://tpu-pytorch/wheels/torchvision-nightly+20200325-cp36-cp36m-linux_x86_64.whl...\n",
            "/ [1 files][  2.5 MiB/  2.5 MiB]                                                \n",
            "Operation completed over 1 objects/2.5 MiB.                                      \n",
            "Processing ./torch-nightly+20200325-cp36-cp36m-linux_x86_64.whl\n",
            "Requirement already satisfied: numpy in /usr/local/lib/python3.6/dist-packages (from torch==nightly+20200325) (1.18.4)\n",
            "Requirement already satisfied: future in /usr/local/lib/python3.6/dist-packages (from torch==nightly+20200325) (0.16.0)\n",
            "\u001b[31mERROR: fastai 1.0.61 requires torchvision, which is not installed.\u001b[0m\n",
            "Installing collected packages: torch\n",
            "Successfully installed torch-1.5.0a0+d6149a7\n",
            "Processing ./torch_xla-nightly+20200325-cp36-cp36m-linux_x86_64.whl\n",
            "Installing collected packages: torch-xla\n",
            "Successfully installed torch-xla-1.6+e788e5b\n",
            "Processing ./torchvision-nightly+20200325-cp36-cp36m-linux_x86_64.whl\n",
            "Requirement already satisfied: pillow>=4.1.1 in /usr/local/lib/python3.6/dist-packages (from torchvision==nightly+20200325) (7.0.0)\n",
            "Requirement already satisfied: six in /usr/local/lib/python3.6/dist-packages (from torchvision==nightly+20200325) (1.12.0)\n",
            "Requirement already satisfied: numpy in /usr/local/lib/python3.6/dist-packages (from torchvision==nightly+20200325) (1.18.4)\n",
            "Requirement already satisfied: torch in /usr/local/lib/python3.6/dist-packages (from torchvision==nightly+20200325) (1.5.0a0+d6149a7)\n",
            "Requirement already satisfied: future in /usr/local/lib/python3.6/dist-packages (from torch->torchvision==nightly+20200325) (0.16.0)\n",
            "Installing collected packages: torchvision\n",
            "Successfully installed torchvision-0.6.0a0+3c254fb\n",
            "Reading package lists... Done\n",
            "Building dependency tree       \n",
            "Reading state information... Done\n",
            "The following NEW packages will be installed:\n",
            "  libomp5\n",
            "0 upgraded, 1 newly installed, 0 to remove and 31 not upgraded.\n",
            "Need to get 234 kB of archives.\n",
            "After this operation, 774 kB of additional disk space will be used.\n",
            "Get:1 http://archive.ubuntu.com/ubuntu bionic/universe amd64 libomp5 amd64 5.0.1-1 [234 kB]\n",
            "Fetched 234 kB in 1s (381 kB/s)\n",
            "Selecting previously unselected package libomp5:amd64.\n",
            "(Reading database ... 144433 files and directories currently installed.)\n",
            "Preparing to unpack .../libomp5_5.0.1-1_amd64.deb ...\n",
            "Unpacking libomp5:amd64 (5.0.1-1) ...\n",
            "Setting up libomp5:amd64 (5.0.1-1) ...\n",
            "Processing triggers for libc-bin (2.27-3ubuntu1) ...\n",
            "/sbin/ldconfig.real: /usr/local/lib/python3.6/dist-packages/ideep4py/lib/libmkldnn.so.0 is not a symbolic link\n",
            "\n"
          ],
          "name": "stdout"
        }
      ]
    },
    {
      "cell_type": "markdown",
      "metadata": {
        "id": "W67GJl6XLT0E",
        "colab_type": "text"
      },
      "source": [
        "Then download the WikiText-2 dataset, unzip it, then download the HuggingFace Transformers package."
      ]
    },
    {
      "cell_type": "code",
      "metadata": {
        "id": "wv7jduFQ6yqY",
        "colab_type": "code",
        "colab": {
          "base_uri": "https://localhost:8080/",
          "height": 890
        },
        "outputId": "b6a22120-0cbe-4c9d-e0b0-7cbeeed0e407"
      },
      "source": [
        "!wget https://s3.amazonaws.com/research.metamind.io/wikitext/wikitext-2-v1.zip\n",
        "!unzip wikitext-2-v1.zip && rm wikitext-2-v1.zip\n",
        "!pip install transformers"
      ],
      "execution_count": 2,
      "outputs": [
        {
          "output_type": "stream",
          "text": [
            "--2020-05-16 15:58:01--  https://s3.amazonaws.com/research.metamind.io/wikitext/wikitext-2-v1.zip\n",
            "Resolving s3.amazonaws.com (s3.amazonaws.com)... 52.217.45.86\n",
            "Connecting to s3.amazonaws.com (s3.amazonaws.com)|52.217.45.86|:443... connected.\n",
            "HTTP request sent, awaiting response... 200 OK\n",
            "Length: 4475746 (4.3M) [application/zip]\n",
            "Saving to: ‘wikitext-2-v1.zip’\n",
            "\n",
            "\rwikitext-2-v1.zip     0%[                    ]       0  --.-KB/s               \rwikitext-2-v1.zip    42%[=======>            ]   1.80M  8.90MB/s               \rwikitext-2-v1.zip   100%[===================>]   4.27M  18.2MB/s    in 0.2s    \n",
            "\n",
            "2020-05-16 15:58:01 (18.2 MB/s) - ‘wikitext-2-v1.zip’ saved [4475746/4475746]\n",
            "\n",
            "Archive:  wikitext-2-v1.zip\n",
            "   creating: wikitext-2/\n",
            "  inflating: wikitext-2/wiki.test.tokens  \n",
            "  inflating: wikitext-2/wiki.valid.tokens  \n",
            "  inflating: wikitext-2/wiki.train.tokens  \n",
            "Collecting transformers\n",
            "\u001b[?25l  Downloading https://files.pythonhosted.org/packages/22/97/7db72a0beef1825f82188a4b923e62a146271ac2ced7928baa4d47ef2467/transformers-2.9.1-py3-none-any.whl (641kB)\n",
            "\u001b[K     |████████████████████████████████| 645kB 3.4MB/s \n",
            "\u001b[?25hCollecting tokenizers==0.7.0\n",
            "\u001b[?25l  Downloading https://files.pythonhosted.org/packages/14/e5/a26eb4716523808bb0a799fcfdceb6ebf77a18169d9591b2f46a9adb87d9/tokenizers-0.7.0-cp36-cp36m-manylinux1_x86_64.whl (3.8MB)\n",
            "\u001b[K     |████████████████████████████████| 3.8MB 14.6MB/s \n",
            "\u001b[?25hRequirement already satisfied: tqdm>=4.27 in /usr/local/lib/python3.6/dist-packages (from transformers) (4.41.1)\n",
            "Requirement already satisfied: dataclasses; python_version < \"3.7\" in /usr/local/lib/python3.6/dist-packages (from transformers) (0.7)\n",
            "Requirement already satisfied: numpy in /usr/local/lib/python3.6/dist-packages (from transformers) (1.18.4)\n",
            "Requirement already satisfied: filelock in /usr/local/lib/python3.6/dist-packages (from transformers) (3.0.12)\n",
            "Requirement already satisfied: regex!=2019.12.17 in /usr/local/lib/python3.6/dist-packages (from transformers) (2019.12.20)\n",
            "Requirement already satisfied: requests in /usr/local/lib/python3.6/dist-packages (from transformers) (2.23.0)\n",
            "Collecting sacremoses\n",
            "\u001b[?25l  Downloading https://files.pythonhosted.org/packages/7d/34/09d19aff26edcc8eb2a01bed8e98f13a1537005d31e95233fd48216eed10/sacremoses-0.0.43.tar.gz (883kB)\n",
            "\u001b[K     |████████████████████████████████| 890kB 46.0MB/s \n",
            "\u001b[?25hCollecting sentencepiece\n",
            "\u001b[?25l  Downloading https://files.pythonhosted.org/packages/3b/88/49e772d686088e1278766ad68a463513642a2a877487decbd691dec02955/sentencepiece-0.1.90-cp36-cp36m-manylinux1_x86_64.whl (1.1MB)\n",
            "\u001b[K     |████████████████████████████████| 1.1MB 42.8MB/s \n",
            "\u001b[?25hRequirement already satisfied: urllib3!=1.25.0,!=1.25.1,<1.26,>=1.21.1 in /usr/local/lib/python3.6/dist-packages (from requests->transformers) (1.24.3)\n",
            "Requirement already satisfied: chardet<4,>=3.0.2 in /usr/local/lib/python3.6/dist-packages (from requests->transformers) (3.0.4)\n",
            "Requirement already satisfied: idna<3,>=2.5 in /usr/local/lib/python3.6/dist-packages (from requests->transformers) (2.9)\n",
            "Requirement already satisfied: certifi>=2017.4.17 in /usr/local/lib/python3.6/dist-packages (from requests->transformers) (2020.4.5.1)\n",
            "Requirement already satisfied: six in /usr/local/lib/python3.6/dist-packages (from sacremoses->transformers) (1.12.0)\n",
            "Requirement already satisfied: click in /usr/local/lib/python3.6/dist-packages (from sacremoses->transformers) (7.1.2)\n",
            "Requirement already satisfied: joblib in /usr/local/lib/python3.6/dist-packages (from sacremoses->transformers) (0.14.1)\n",
            "Building wheels for collected packages: sacremoses\n",
            "  Building wheel for sacremoses (setup.py) ... \u001b[?25l\u001b[?25hdone\n",
            "  Created wheel for sacremoses: filename=sacremoses-0.0.43-cp36-none-any.whl size=893260 sha256=74fa9d45bf9a23394c561db84b15335cb85e64d8d91096ad9a3945bc938a89fe\n",
            "  Stored in directory: /root/.cache/pip/wheels/29/3c/fd/7ce5c3f0666dab31a50123635e6fb5e19ceb42ce38d4e58f45\n",
            "Successfully built sacremoses\n",
            "Installing collected packages: tokenizers, sacremoses, sentencepiece, transformers\n",
            "Successfully installed sacremoses-0.0.43 sentencepiece-0.1.90 tokenizers-0.7.0 transformers-2.9.1\n"
          ],
          "name": "stdout"
        }
      ]
    },
    {
      "cell_type": "markdown",
      "metadata": {
        "id": "XERstOAPLY7U",
        "colab_type": "text"
      },
      "source": [
        "# Preliminaries"
      ]
    },
    {
      "cell_type": "markdown",
      "metadata": {
        "id": "7o5tYNjhLaCm",
        "colab_type": "text"
      },
      "source": [
        "We'll start with some imports."
      ]
    },
    {
      "cell_type": "code",
      "metadata": {
        "id": "iKwq2x37bC-I",
        "colab_type": "code",
        "colab": {}
      },
      "source": [
        "import torch\n",
        "import torch.nn as nn\n",
        "import torch.optim as optim\n",
        "import torch.utils.data as datautils\n",
        "\n",
        "import torch_xla\n",
        "import torch_xla.core.xla_model as xm\n",
        "import torch_xla.distributed.xla_multiprocessing as xmp\n",
        "import torch_xla.distributed.parallel_loader as pl\n",
        "\n",
        "from transformers import GPT2Tokenizer, GPT2LMHeadModel, TextDataset\n",
        "\n",
        "import numpy as np\n",
        "import pandas as pd\n",
        "import time, os"
      ],
      "execution_count": 0,
      "outputs": []
    },
    {
      "cell_type": "markdown",
      "metadata": {
        "id": "TY7cLDrHLb8t",
        "colab_type": "text"
      },
      "source": [
        "We'll load up the DistilGPT2 tokenizer and add in special tokens since they're not initialized."
      ]
    },
    {
      "cell_type": "code",
      "metadata": {
        "id": "hPiVQDm86rVN",
        "colab_type": "code",
        "colab": {
          "base_uri": "https://localhost:8080/",
          "height": 135,
          "referenced_widgets": [
            "c1bbed3c38644ce5be364ca723d40a5e",
            "a699cbc7830747f590b5ef0d067d34bb",
            "48dd7da9b1714946aadab72196dfbd9a",
            "32ff92a130e44732b871f5ede5cc7871",
            "c22d6a0b153d431a91fba3442a529020",
            "110cb9c98edf4ce8bf9824c49ba07bc1",
            "b04c86522028456cb9ae79b6116ab27e",
            "8d1b929d06294e9d844b0ea2555fcd31",
            "5339c156c3e748ca8e33d7260af28a3a",
            "5de6deff705a4bf8b6fe044a1ab737e8",
            "f155da9c3e2b49b8b277052db0a163bf",
            "57e2146f06c246b3862ec46896c50890",
            "3609353cbe4b450fa9a2940b45226c79",
            "862d212588bd4bf9a2cbd486a1b6185b",
            "639cead008684e5f9a80e24a2ee325e5",
            "a1cfd016044a49caa7cb288d3597eb20"
          ]
        },
        "outputId": "56c89c67-aeae-41a3-9980-66144f253b3f"
      },
      "source": [
        "tokenizer = GPT2Tokenizer.from_pretrained('distilgpt2')\n",
        "tokenizer.add_special_tokens({'bos_token': '<bos>', \n",
        "                              'eos_token': '<eos>', \n",
        "                              'unk_token': '<unk>',\n",
        "                              'pad_token': '<pad>'})"
      ],
      "execution_count": 4,
      "outputs": [
        {
          "output_type": "display_data",
          "data": {
            "application/vnd.jupyter.widget-view+json": {
              "model_id": "c1bbed3c38644ce5be364ca723d40a5e",
              "version_minor": 0,
              "version_major": 2
            },
            "text/plain": [
              "HBox(children=(FloatProgress(value=0.0, description='Downloading', max=1042301.0, style=ProgressStyle(descript…"
            ]
          },
          "metadata": {
            "tags": []
          }
        },
        {
          "output_type": "stream",
          "text": [
            "\n"
          ],
          "name": "stdout"
        },
        {
          "output_type": "display_data",
          "data": {
            "application/vnd.jupyter.widget-view+json": {
              "model_id": "5339c156c3e748ca8e33d7260af28a3a",
              "version_minor": 0,
              "version_major": 2
            },
            "text/plain": [
              "HBox(children=(FloatProgress(value=0.0, description='Downloading', max=456318.0, style=ProgressStyle(descripti…"
            ]
          },
          "metadata": {
            "tags": []
          }
        },
        {
          "output_type": "stream",
          "text": [
            "\n"
          ],
          "name": "stdout"
        },
        {
          "output_type": "execute_result",
          "data": {
            "text/plain": [
              "3"
            ]
          },
          "metadata": {
            "tags": []
          },
          "execution_count": 4
        }
      ]
    },
    {
      "cell_type": "markdown",
      "metadata": {
        "id": "o-lr4dCMLg86",
        "colab_type": "text"
      },
      "source": [
        "HuggingFace Transformers has a wrapper that produces ```torch.utils.data.TensorDataset``` objects for language modeling. We don't need to worry about manually chunking the data by batches and BPTT lengths.\n",
        "\n",
        "We'll set the block size (the number of tokens the model will see at once) to the GPT2 standard 1024."
      ]
    },
    {
      "cell_type": "code",
      "metadata": {
        "id": "HbMcKEQt6rXf",
        "colab_type": "code",
        "colab": {}
      },
      "source": [
        "train_set = TextDataset(tokenizer=tokenizer, \n",
        "                        file_path='wikitext-2/wiki.train.tokens', \n",
        "                        block_size=tokenizer.max_len + 1)\n",
        "valid_set = TextDataset(tokenizer=tokenizer, \n",
        "                        file_path='wikitext-2/wiki.valid.tokens', \n",
        "                        block_size=tokenizer.max_len + 1)"
      ],
      "execution_count": 0,
      "outputs": []
    },
    {
      "cell_type": "markdown",
      "metadata": {
        "id": "0a4cta7bMlDj",
        "colab_type": "text"
      },
      "source": [
        "# Finetuning"
      ]
    },
    {
      "cell_type": "markdown",
      "metadata": {
        "id": "XPcLE8yoL3jT",
        "colab_type": "text"
      },
      "source": [
        "Next, we'll write up a mapping function that will be distributed to 8 TPU cores. For more granular information on how PyTorch XLA maps to specific cores, check out [this notebook](https://colab.research.google.com/github/pytorch/xla/blob/master/contrib/colab/multi-core-alexnet-fashion-mnist.ipynb).\n",
        "\n",
        "This function will be long, so we'll comment in everything that you'll need to know."
      ]
    },
    {
      "cell_type": "code",
      "metadata": {
        "id": "KpiGNP8nB_bU",
        "colab_type": "code",
        "colab": {}
      },
      "source": [
        "def map_fn(index, flags):\n",
        "    # Set the seed and obtain an XLA device\n",
        "    torch.manual_seed(flags['seed'])\n",
        "    device = xm.xla_device()\n",
        "    print(\"Process\", index, \"obtained, using device:\", xm.xla_real_devices([str(device)])[0]) \n",
        "\n",
        "    # Produce distributed samplers\n",
        "    train_sampler = datautils.distributed.DistributedSampler(\n",
        "        train_set, \n",
        "        num_replicas=xm.xrt_world_size(), \n",
        "        rank=xm.get_ordinal(), \n",
        "        shuffle=True\n",
        "    )\n",
        "    valid_sampler = datautils.distributed.DistributedSampler(\n",
        "        valid_set, \n",
        "        num_replicas=xm.xrt_world_size(), \n",
        "        rank=xm.get_ordinal(), \n",
        "        shuffle=False\n",
        "    )\n",
        "\n",
        "    # Create dataloaders. Do not shuffle train loader\n",
        "    # to maintain sequential order\n",
        "    train_loader = datautils.DataLoader(\n",
        "        train_set,\n",
        "        batch_size=flags['batch_size'], \n",
        "        sampler=train_sampler, \n",
        "        num_workers=flags['num_workers'],\n",
        "        drop_last=True,\n",
        "        shuffle=False\n",
        "    )\n",
        "    valid_loader = datautils.DataLoader(\n",
        "        valid_set,\n",
        "        batch_size=flags['batch_size'], \n",
        "        sampler=valid_sampler, \n",
        "        num_workers=flags['num_workers'],\n",
        "        drop_last=True,\n",
        "        shuffle=False\n",
        "    )\n",
        "\n",
        "    # This ensures that the pretrained weights will only be\n",
        "    # downloaded once (c/o the master process). It also makes\n",
        "    # sure that the other processes don't attempt to load the\n",
        "    # weights when downloading isn't finished yet.\n",
        "    if not xm.is_master_ordinal():\n",
        "        xm.rendezvous('download_only_once')\n",
        "\n",
        "    # Configure the model\n",
        "    model = GPT2LMHeadModel.from_pretrained(flags['pretrained']).to(device)\n",
        "\n",
        "    if xm.is_master_ordinal():\n",
        "        xm.rendezvous('download_only_once')\n",
        "\n",
        "    # Initialize loss and optimizer\n",
        "    criterion = nn.CrossEntropyLoss()\n",
        "    optimizer = optim.Adam(model.parameters(), lr=flags['learning_rate'])\n",
        "\n",
        "    xm.master_print(\"\\nNumber of training batches: {}\".format(len(train_loader)))\n",
        "    xm.master_print(\"Number of evaluation batches: {}\\n\".format(len(valid_loader)))\n",
        "\n",
        "    # Train Model\n",
        "    model.train()\n",
        "    train_start = time.time()\n",
        "  \n",
        "    for e in range(1, flags['num_epochs'] + 1):\n",
        "        xm.master_print(\"=\" * 27 + \"Epoch {} of {}\".format(e, flags['num_epochs']) + \"=\" * 27)\n",
        "        para_train_loader = pl.ParallelLoader(train_loader, [device]).per_device_loader(device)\n",
        "        for i, batch in enumerate(para_train_loader):\n",
        "            x, y = batch[:,:-1], batch[:, 1:]\n",
        "            out = model(x)[0]\n",
        "            loss = criterion(out.flatten(0, 1), y.flatten(0))\n",
        "\n",
        "            if i % flags['print_every'] == 0:\n",
        "                xm.master_print('[TRAIN] Iteration {:4} | Loss {:.4f} | Time Elapsed {:.2f} seconds'.format(i, loss.item(),time.time() - train_start))\n",
        "\n",
        "            optimizer.zero_grad()\n",
        "            loss.backward()\n",
        "            xm.optimizer_step(optimizer)\n",
        "    xm.master_print('\\nFinished training {} epochs in {:.2f} seconds.\\n'.format(flags['num_epochs'], time.time() - train_start))\n",
        "\n",
        "    # Evaluate Model\n",
        "    model.eval()\n",
        "    valid_start = time.time()\n",
        "    valid_loss = 0\n",
        "    \n",
        "    with torch.no_grad():\n",
        "        xm.master_print('=' * 28 + 'Validation' + '=' * 28)\n",
        "        para_valid_loader = pl.ParallelLoader(valid_loader, [device]).per_device_loader(device)\n",
        "        for i, batch in enumerate(para_valid_loader):\n",
        "            x, y = batch[:,:-1], batch[:, 1:]\n",
        "            out = model(x)[0]\n",
        "            loss = criterion(out.flatten(0, 1), y.flatten(0))\n",
        "\n",
        "            valid_loss += loss.item()\n",
        "            if i % flags['print_every'] == 0:\n",
        "                xm.master_print('[VALID] Iteration {:4} | Loss {:.4f} | Time Elapsed {:.2f} seconds'.format(i, loss.item(),time.time() - train_start))\n",
        "\n",
        "    valid_loss /= len(valid_loader)\n",
        "    xm.master_print('\\nFinished evaluation in {:.2f} seconds. Validation Loss: {:.4f} | Validation PPL {:.4f}\\n'.format(time.time() - valid_start, valid_loss, np.exp(valid_loss)))\n",
        "\n",
        "    # Save the model\n",
        "    xm.save(model.state_dict(), flags['savedir'] + '/' + flags['modelpath'])"
      ],
      "execution_count": 0,
      "outputs": []
    },
    {
      "cell_type": "markdown",
      "metadata": {
        "id": "HWxuDWZGMCVc",
        "colab_type": "text"
      },
      "source": [
        "We'll add in our settings as a dictionary, then start the processes. \n",
        "\n",
        "Since we're training on 8 cores with batch size 8 each, we're technically training using batch size 64, which is great."
      ]
    },
    {
      "cell_type": "code",
      "metadata": {
        "id": "IPSmVnIdB_dr",
        "colab_type": "code",
        "colab": {
          "base_uri": "https://localhost:8080/",
          "height": 645,
          "referenced_widgets": [
            "63b389cca0314bb5a86c431b69069e1e",
            "30ae12dab0f44a96bea769205f0a0bdf",
            "3dc89c1dc0b94ab198a8735199983400",
            "0942b2766f7d4b81a4e8ab684598a049",
            "cdc9997cdaf54063a8220b7a4c9bfd91",
            "9074c0e091cb47c795077d0c374e6b2d",
            "c8962463a6204c518b7b692dd1219eda",
            "2a2669fae10447c58f6184d077b733fc",
            "5484ace839914fbfaf177c5b6d55f23a",
            "4c4929149a18473daddabbf08e52e4df",
            "75776919d7a34a5fb8db87300f8968ba",
            "7073044e0da9470c83c41bf9d0d7f649",
            "fb96684e03de486c88ce7b2ad5514bdc",
            "6e6b25eb86b641229a3f324949c92f5e",
            "bc2d1d4c6683461c86da9962ab30c163",
            "013e67e19f944ea29fdbde33c82f109b"
          ]
        },
        "outputId": "77ac4249-1052-4ead-c0cd-e5b6fcb922bd"
      },
      "source": [
        "# Set flags\n",
        "flags = {\n",
        "    'batch_size': 8,\n",
        "    'num_workers': 8,\n",
        "    'num_epochs': 3,\n",
        "    'seed': 42,\n",
        "    'pretrained': 'distilgpt2',\n",
        "    'savedir': 'training_dir',\n",
        "    'modelpath': 'model.bin',\n",
        "    'learning_rate': 1e-5,\n",
        "    'print_every': 20\n",
        "}\n",
        "\n",
        "# Start the process\n",
        "if flags['savedir'] not in os.listdir('.'): os.mkdir(flags['savedir'])\n",
        "xmp.spawn(map_fn, args=(flags,), nprocs=8, start_method='fork')"
      ],
      "execution_count": 7,
      "outputs": [
        {
          "output_type": "stream",
          "text": [
            "Process 0 obtained, using device: TPU:0\n",
            "Process 1 obtained, using device: TPU:1\n"
          ],
          "name": "stdout"
        },
        {
          "output_type": "display_data",
          "data": {
            "application/vnd.jupyter.widget-view+json": {
              "model_id": "63b389cca0314bb5a86c431b69069e1e",
              "version_minor": 0,
              "version_major": 2
            },
            "text/plain": [
              "HBox(children=(FloatProgress(value=0.0, description='Downloading', max=762.0, style=ProgressStyle(description_…"
            ]
          },
          "metadata": {
            "tags": []
          }
        },
        {
          "output_type": "stream",
          "text": [
            "\n",
            "Process 5 obtained, using device: TPU:5\n",
            "Process 7 obtained, using device: TPU:7\n",
            "Process 2 obtained, using device: TPU:2\n"
          ],
          "name": "stdout"
        },
        {
          "output_type": "display_data",
          "data": {
            "application/vnd.jupyter.widget-view+json": {
              "model_id": "5484ace839914fbfaf177c5b6d55f23a",
              "version_minor": 0,
              "version_major": 2
            },
            "text/plain": [
              "HBox(children=(FloatProgress(value=0.0, description='Downloading', max=352833716.0, style=ProgressStyle(descri…"
            ]
          },
          "metadata": {
            "tags": []
          }
        },
        {
          "output_type": "stream",
          "text": [
            "Process 6 obtained, using device: TPU:6\n",
            "Process 3 obtained, using device: TPU:3\n",
            "Process 4 obtained, using device: TPU:4\n",
            "\n",
            "\n",
            "Number of training batches: 35\n",
            "Number of evaluation batches: 3\n",
            "\n",
            "===========================Epoch 1 of 3===========================\n",
            "[TRAIN] Iteration    0 | Loss 4.7338 | Time Elapsed 2.97 seconds\n",
            "[TRAIN] Iteration   20 | Loss 4.1438 | Time Elapsed 79.53 seconds\n",
            "===========================Epoch 2 of 3===========================\n",
            "[TRAIN] Iteration    0 | Loss 3.6926 | Time Elapsed 89.75 seconds\n",
            "[TRAIN] Iteration   20 | Loss 3.7793 | Time Elapsed 103.52 seconds\n",
            "===========================Epoch 3 of 3===========================\n",
            "[TRAIN] Iteration    0 | Loss 3.4750 | Time Elapsed 113.67 seconds\n",
            "[TRAIN] Iteration   20 | Loss 3.6648 | Time Elapsed 127.69 seconds\n",
            "\n",
            "Finished training 3 epochs in 136.46 seconds.\n",
            "\n",
            "============================Validation============================\n",
            "[VALID] Iteration    0 | Loss 3.3704 | Time Elapsed 141.23 seconds\n",
            "\n",
            "Finished evaluation in 8.59 seconds. Validation Loss: 3.4767 | Validation PPL 32.3538\n",
            "\n"
          ],
          "name": "stdout"
        }
      ]
    },
    {
      "cell_type": "markdown",
      "metadata": {
        "id": "6Jlhg--dMM8T",
        "colab_type": "text"
      },
      "source": [
        "We reach a validation perplexity of ~32 after three epochs of finetuning...for only about 2 minutes!"
      ]
    },
    {
      "cell_type": "markdown",
      "metadata": {
        "id": "BIQ_vz9IMS2Y",
        "colab_type": "text"
      },
      "source": [
        "# Testing"
      ]
    },
    {
      "cell_type": "markdown",
      "metadata": {
        "id": "pGm2sBULMT6-",
        "colab_type": "text"
      },
      "source": [
        "Before we test generation, let's see the performance of our finetuned model on the test set. Let's instantiate another instance of the model and load our finetuned weights. We'll only use one TPU core for this."
      ]
    },
    {
      "cell_type": "code",
      "metadata": {
        "id": "-RfbAvMPB_h2",
        "colab_type": "code",
        "colab": {}
      },
      "source": [
        "test_set = TextDataset(tokenizer=tokenizer, \n",
        "                       file_path='wikitext-2/wiki.test.tokens', \n",
        "                       block_size=tokenizer.max_len + 1)\n",
        "test_loader = datautils.DataLoader(test_set, batch_size=flags['batch_size'], shuffle=False, drop_last=True)\n",
        "\n",
        "# Acquire a device and instantiate model\n",
        "device = xm.xla_device()\n",
        "model = GPT2LMHeadModel.from_pretrained('distilgpt2').to(device)\n",
        "criterion = nn.CrossEntropyLoss()\n",
        "\n",
        "# Load the saved weights\n",
        "with open(flags['savedir'] + '/' + flags['modelpath'], 'rb') as f:\n",
        "    model.load_state_dict(torch.load(f))"
      ],
      "execution_count": 0,
      "outputs": []
    },
    {
      "cell_type": "markdown",
      "metadata": {
        "id": "EU_FjNotMbEA",
        "colab_type": "text"
      },
      "source": [
        "Then start the test loop."
      ]
    },
    {
      "cell_type": "code",
      "metadata": {
        "id": "csh5-yjp6rZ9",
        "colab_type": "code",
        "colab": {
          "base_uri": "https://localhost:8080/",
          "height": 163
        },
        "outputId": "618385e9-074c-472c-dbe4-519978b3aa82"
      },
      "source": [
        "print(\"Testing batches: {}\".format(len(test_loader)))\n",
        "test_start = time.time()\n",
        "\n",
        "model.eval()\n",
        "test_loss = 0\n",
        "for i, batch in enumerate(test_loader):\n",
        "    x, y = batch[:,:-1], batch[:, 1:]\n",
        "    x, y = x.to(device), y.to(device)\n",
        "    with torch.no_grad():\n",
        "        out, _ = model(x)\n",
        "        loss = criterion(out.flatten(0, 1), y.flatten(0))\n",
        "\n",
        "        if i % 10 == 0: \n",
        "            print('[TEST] Iteration {:4} | Loss {:.4f} | Time Elapsed {:.2f} seconds'.format(i, loss.item(), time.time() - test_start))\n",
        "        test_loss += loss.item()\n",
        "test_loss /= len(test_loader)\n",
        "\n",
        "print('\\nFinished evaluation in {:.2f} seconds. Test Loss: {:.4f} | Test PPL {:.4f}\\n'.format(time.time() - test_start, test_loss, np.exp(test_loss)))"
      ],
      "execution_count": 9,
      "outputs": [
        {
          "output_type": "stream",
          "text": [
            "Testing batches: 32\n",
            "[TEST] Iteration    0 | Loss 3.4673 | Time Elapsed 3.39 seconds\n",
            "[TEST] Iteration   10 | Loss 3.4809 | Time Elapsed 4.87 seconds\n",
            "[TEST] Iteration   20 | Loss 3.9778 | Time Elapsed 6.31 seconds\n",
            "[TEST] Iteration   30 | Loss 3.2503 | Time Elapsed 7.74 seconds\n",
            "\n",
            "Finished evaluation in 7.98 seconds. Test Loss: 3.4646 | Test PPL 31.9635\n",
            "\n"
          ],
          "name": "stdout"
        }
      ]
    },
    {
      "cell_type": "markdown",
      "metadata": {
        "id": "7iaFeEAVMciz",
        "colab_type": "text"
      },
      "source": [
        "That's a pretty good perplexity.\n",
        "\n",
        "Now let's move the model to CPU."
      ]
    },
    {
      "cell_type": "code",
      "metadata": {
        "id": "BS5s3FwaH4Xx",
        "colab_type": "code",
        "colab": {}
      },
      "source": [
        "model = model.cpu()"
      ],
      "execution_count": 0,
      "outputs": []
    },
    {
      "cell_type": "markdown",
      "metadata": {
        "id": "n42MlmV0Mf9L",
        "colab_type": "text"
      },
      "source": [
        "And generate some text."
      ]
    },
    {
      "cell_type": "code",
      "metadata": {
        "id": "Dskm5UypGR79",
        "colab_type": "code",
        "colab": {
          "base_uri": "https://localhost:8080/",
          "height": 35
        },
        "outputId": "1bad045d-e2e6-4eb6-c809-3f76daef8b74"
      },
      "source": [
        "text = \"this is a brand new\"\n",
        "nwords = 15\n",
        "\n",
        "for i in range(nwords):\n",
        "    ids = torch.tensor(tokenizer.encode(text)).unsqueeze(0)\n",
        "    with torch.no_grad():\n",
        "        out = model(ids)[0]\n",
        "    pred_ix = out.squeeze(0)[-1].argmax().item()\n",
        "    pred_word = tokenizer.decode(pred_ix)\n",
        "    text += pred_word\n",
        "\n",
        "print(text)"
      ],
      "execution_count": 11,
      "outputs": [
        {
          "output_type": "stream",
          "text": [
            "this is a brand new product that will be available in the US and Europe in the coming months.\n"
          ],
          "name": "stdout"
        }
      ]
    },
    {
      "cell_type": "code",
      "metadata": {
        "id": "HDQvvNYMHq59",
        "colab_type": "code",
        "colab": {}
      },
      "source": [
        ""
      ],
      "execution_count": 0,
      "outputs": []
    }
  ]
}